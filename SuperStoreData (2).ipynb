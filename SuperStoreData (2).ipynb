{
 "cells": [
  {
   "cell_type": "code",
   "execution_count": 1,
   "id": "3f164c30",
   "metadata": {},
   "outputs": [],
   "source": [
    "import pandas as pd\n",
    "import matplotlib.pyplot as plt\n",
    "import seaborn as sns"
   ]
  },
  {
   "cell_type": "markdown",
   "id": "cdbc0210",
   "metadata": {},
   "source": [
    "<b>Load data</b>"
   ]
  },
  {
   "cell_type": "code",
   "execution_count": 2,
   "id": "2b2f1ee2",
   "metadata": {},
   "outputs": [
    {
     "data": {
      "text/html": [
       "<div>\n",
       "<style scoped>\n",
       "    .dataframe tbody tr th:only-of-type {\n",
       "        vertical-align: middle;\n",
       "    }\n",
       "\n",
       "    .dataframe tbody tr th {\n",
       "        vertical-align: top;\n",
       "    }\n",
       "\n",
       "    .dataframe thead th {\n",
       "        text-align: right;\n",
       "    }\n",
       "</style>\n",
       "<table border=\"1\" class=\"dataframe\">\n",
       "  <thead>\n",
       "    <tr style=\"text-align: right;\">\n",
       "      <th></th>\n",
       "      <th>order_id</th>\n",
       "      <th>order_date</th>\n",
       "      <th>ship_date</th>\n",
       "      <th>ship_mode</th>\n",
       "      <th>customer_name</th>\n",
       "      <th>segment</th>\n",
       "      <th>state</th>\n",
       "      <th>country</th>\n",
       "      <th>market</th>\n",
       "      <th>region</th>\n",
       "      <th>...</th>\n",
       "      <th>category</th>\n",
       "      <th>sub_category</th>\n",
       "      <th>product_name</th>\n",
       "      <th>sales</th>\n",
       "      <th>quantity</th>\n",
       "      <th>discount</th>\n",
       "      <th>profit</th>\n",
       "      <th>shipping_cost</th>\n",
       "      <th>order_priority</th>\n",
       "      <th>year</th>\n",
       "    </tr>\n",
       "  </thead>\n",
       "  <tbody>\n",
       "    <tr>\n",
       "      <th>0</th>\n",
       "      <td>AG-2011-2040</td>\n",
       "      <td>1/1/2011</td>\n",
       "      <td>6/1/2011</td>\n",
       "      <td>Standard Class</td>\n",
       "      <td>Toby Braunhardt</td>\n",
       "      <td>Consumer</td>\n",
       "      <td>Constantine</td>\n",
       "      <td>Algeria</td>\n",
       "      <td>Africa</td>\n",
       "      <td>Africa</td>\n",
       "      <td>...</td>\n",
       "      <td>Office Supplies</td>\n",
       "      <td>Storage</td>\n",
       "      <td>Tenex Lockers, Blue</td>\n",
       "      <td>408</td>\n",
       "      <td>2</td>\n",
       "      <td>0.0</td>\n",
       "      <td>106.140</td>\n",
       "      <td>35.46</td>\n",
       "      <td>Medium</td>\n",
       "      <td>2011</td>\n",
       "    </tr>\n",
       "    <tr>\n",
       "      <th>1</th>\n",
       "      <td>IN-2011-47883</td>\n",
       "      <td>1/1/2011</td>\n",
       "      <td>8/1/2011</td>\n",
       "      <td>Standard Class</td>\n",
       "      <td>Joseph Holt</td>\n",
       "      <td>Consumer</td>\n",
       "      <td>New South Wales</td>\n",
       "      <td>Australia</td>\n",
       "      <td>APAC</td>\n",
       "      <td>Oceania</td>\n",
       "      <td>...</td>\n",
       "      <td>Office Supplies</td>\n",
       "      <td>Supplies</td>\n",
       "      <td>Acme Trimmer, High Speed</td>\n",
       "      <td>120</td>\n",
       "      <td>3</td>\n",
       "      <td>0.1</td>\n",
       "      <td>36.036</td>\n",
       "      <td>9.72</td>\n",
       "      <td>Medium</td>\n",
       "      <td>2011</td>\n",
       "    </tr>\n",
       "    <tr>\n",
       "      <th>2</th>\n",
       "      <td>HU-2011-1220</td>\n",
       "      <td>1/1/2011</td>\n",
       "      <td>5/1/2011</td>\n",
       "      <td>Second Class</td>\n",
       "      <td>Annie Thurman</td>\n",
       "      <td>Consumer</td>\n",
       "      <td>Budapest</td>\n",
       "      <td>Hungary</td>\n",
       "      <td>EMEA</td>\n",
       "      <td>EMEA</td>\n",
       "      <td>...</td>\n",
       "      <td>Office Supplies</td>\n",
       "      <td>Storage</td>\n",
       "      <td>Tenex Box, Single Width</td>\n",
       "      <td>66</td>\n",
       "      <td>4</td>\n",
       "      <td>0.0</td>\n",
       "      <td>29.640</td>\n",
       "      <td>8.17</td>\n",
       "      <td>High</td>\n",
       "      <td>2011</td>\n",
       "    </tr>\n",
       "    <tr>\n",
       "      <th>3</th>\n",
       "      <td>IT-2011-3647632</td>\n",
       "      <td>1/1/2011</td>\n",
       "      <td>5/1/2011</td>\n",
       "      <td>Second Class</td>\n",
       "      <td>Eugene Moren</td>\n",
       "      <td>Home Office</td>\n",
       "      <td>Stockholm</td>\n",
       "      <td>Sweden</td>\n",
       "      <td>EU</td>\n",
       "      <td>North</td>\n",
       "      <td>...</td>\n",
       "      <td>Office Supplies</td>\n",
       "      <td>Paper</td>\n",
       "      <td>Enermax Note Cards, Premium</td>\n",
       "      <td>45</td>\n",
       "      <td>3</td>\n",
       "      <td>0.5</td>\n",
       "      <td>-26.055</td>\n",
       "      <td>4.82</td>\n",
       "      <td>High</td>\n",
       "      <td>2011</td>\n",
       "    </tr>\n",
       "    <tr>\n",
       "      <th>4</th>\n",
       "      <td>IN-2011-47883</td>\n",
       "      <td>1/1/2011</td>\n",
       "      <td>8/1/2011</td>\n",
       "      <td>Standard Class</td>\n",
       "      <td>Joseph Holt</td>\n",
       "      <td>Consumer</td>\n",
       "      <td>New South Wales</td>\n",
       "      <td>Australia</td>\n",
       "      <td>APAC</td>\n",
       "      <td>Oceania</td>\n",
       "      <td>...</td>\n",
       "      <td>Furniture</td>\n",
       "      <td>Furnishings</td>\n",
       "      <td>Eldon Light Bulb, Duo Pack</td>\n",
       "      <td>114</td>\n",
       "      <td>5</td>\n",
       "      <td>0.1</td>\n",
       "      <td>37.770</td>\n",
       "      <td>4.70</td>\n",
       "      <td>Medium</td>\n",
       "      <td>2011</td>\n",
       "    </tr>\n",
       "  </tbody>\n",
       "</table>\n",
       "<p>5 rows × 21 columns</p>\n",
       "</div>"
      ],
      "text/plain": [
       "          order_id order_date ship_date       ship_mode    customer_name  \\\n",
       "0     AG-2011-2040   1/1/2011  6/1/2011  Standard Class  Toby Braunhardt   \n",
       "1    IN-2011-47883   1/1/2011  8/1/2011  Standard Class      Joseph Holt   \n",
       "2     HU-2011-1220   1/1/2011  5/1/2011    Second Class    Annie Thurman   \n",
       "3  IT-2011-3647632   1/1/2011  5/1/2011    Second Class     Eugene Moren   \n",
       "4    IN-2011-47883   1/1/2011  8/1/2011  Standard Class      Joseph Holt   \n",
       "\n",
       "       segment            state    country  market   region  ...  \\\n",
       "0     Consumer      Constantine    Algeria  Africa   Africa  ...   \n",
       "1     Consumer  New South Wales  Australia    APAC  Oceania  ...   \n",
       "2     Consumer         Budapest    Hungary    EMEA     EMEA  ...   \n",
       "3  Home Office        Stockholm     Sweden      EU    North  ...   \n",
       "4     Consumer  New South Wales  Australia    APAC  Oceania  ...   \n",
       "\n",
       "          category sub_category                 product_name sales quantity  \\\n",
       "0  Office Supplies      Storage          Tenex Lockers, Blue   408        2   \n",
       "1  Office Supplies     Supplies     Acme Trimmer, High Speed   120        3   \n",
       "2  Office Supplies      Storage      Tenex Box, Single Width    66        4   \n",
       "3  Office Supplies        Paper  Enermax Note Cards, Premium    45        3   \n",
       "4        Furniture  Furnishings   Eldon Light Bulb, Duo Pack   114        5   \n",
       "\n",
       "   discount   profit  shipping_cost  order_priority  year  \n",
       "0       0.0  106.140          35.46          Medium  2011  \n",
       "1       0.1   36.036           9.72          Medium  2011  \n",
       "2       0.0   29.640           8.17            High  2011  \n",
       "3       0.5  -26.055           4.82            High  2011  \n",
       "4       0.1   37.770           4.70          Medium  2011  \n",
       "\n",
       "[5 rows x 21 columns]"
      ]
     },
     "execution_count": 2,
     "metadata": {},
     "output_type": "execute_result"
    }
   ],
   "source": [
    "sales = pd.read_csv(r'C:\\Users\\Admin\\OneDrive\\Desktop\\SuperStoreOrders.csv')\n",
    "sales.head()"
   ]
  },
  {
   "cell_type": "markdown",
   "id": "e5081412",
   "metadata": {},
   "source": [
    "<b>Data Exploration</b>"
   ]
  },
  {
   "cell_type": "code",
   "execution_count": 3,
   "id": "fab51cfd",
   "metadata": {},
   "outputs": [
    {
     "data": {
      "text/plain": [
       "(51290, 21)"
      ]
     },
     "execution_count": 3,
     "metadata": {},
     "output_type": "execute_result"
    }
   ],
   "source": [
    "#checking for the rows and columns in the data\n",
    "sales.shape"
   ]
  },
  {
   "cell_type": "code",
   "execution_count": 4,
   "id": "719427a1",
   "metadata": {},
   "outputs": [
    {
     "data": {
      "text/plain": [
       "Index(['order_id', 'order_date', 'ship_date', 'ship_mode', 'customer_name',\n",
       "       'segment', 'state', 'country', 'market', 'region', 'product_id',\n",
       "       'category', 'sub_category', 'product_name', 'sales', 'quantity',\n",
       "       'discount', 'profit', 'shipping_cost', 'order_priority', 'year'],\n",
       "      dtype='object')"
      ]
     },
     "execution_count": 4,
     "metadata": {},
     "output_type": "execute_result"
    }
   ],
   "source": [
    "#checking for columns on the data\n",
    "sales.columns"
   ]
  },
  {
   "cell_type": "code",
   "execution_count": 5,
   "id": "8132437d",
   "metadata": {},
   "outputs": [
    {
     "data": {
      "text/html": [
       "<div>\n",
       "<style scoped>\n",
       "    .dataframe tbody tr th:only-of-type {\n",
       "        vertical-align: middle;\n",
       "    }\n",
       "\n",
       "    .dataframe tbody tr th {\n",
       "        vertical-align: top;\n",
       "    }\n",
       "\n",
       "    .dataframe thead th {\n",
       "        text-align: right;\n",
       "    }\n",
       "</style>\n",
       "<table border=\"1\" class=\"dataframe\">\n",
       "  <thead>\n",
       "    <tr style=\"text-align: right;\">\n",
       "      <th></th>\n",
       "      <th>count</th>\n",
       "      <th>mean</th>\n",
       "      <th>std</th>\n",
       "      <th>min</th>\n",
       "      <th>25%</th>\n",
       "      <th>50%</th>\n",
       "      <th>75%</th>\n",
       "      <th>max</th>\n",
       "    </tr>\n",
       "  </thead>\n",
       "  <tbody>\n",
       "    <tr>\n",
       "      <th>quantity</th>\n",
       "      <td>51290.0</td>\n",
       "      <td>3.476545</td>\n",
       "      <td>2.278766</td>\n",
       "      <td>1.000</td>\n",
       "      <td>2.00</td>\n",
       "      <td>3.00</td>\n",
       "      <td>5.00</td>\n",
       "      <td>14.000</td>\n",
       "    </tr>\n",
       "    <tr>\n",
       "      <th>discount</th>\n",
       "      <td>51290.0</td>\n",
       "      <td>0.142908</td>\n",
       "      <td>0.212280</td>\n",
       "      <td>0.000</td>\n",
       "      <td>0.00</td>\n",
       "      <td>0.00</td>\n",
       "      <td>0.20</td>\n",
       "      <td>0.850</td>\n",
       "    </tr>\n",
       "    <tr>\n",
       "      <th>profit</th>\n",
       "      <td>51290.0</td>\n",
       "      <td>28.641740</td>\n",
       "      <td>174.424113</td>\n",
       "      <td>-6599.978</td>\n",
       "      <td>0.00</td>\n",
       "      <td>9.24</td>\n",
       "      <td>36.81</td>\n",
       "      <td>8399.976</td>\n",
       "    </tr>\n",
       "    <tr>\n",
       "      <th>shipping_cost</th>\n",
       "      <td>51290.0</td>\n",
       "      <td>26.375915</td>\n",
       "      <td>57.296804</td>\n",
       "      <td>0.000</td>\n",
       "      <td>2.61</td>\n",
       "      <td>7.79</td>\n",
       "      <td>24.45</td>\n",
       "      <td>933.570</td>\n",
       "    </tr>\n",
       "    <tr>\n",
       "      <th>year</th>\n",
       "      <td>51290.0</td>\n",
       "      <td>2012.777208</td>\n",
       "      <td>1.098931</td>\n",
       "      <td>2011.000</td>\n",
       "      <td>2012.00</td>\n",
       "      <td>2013.00</td>\n",
       "      <td>2014.00</td>\n",
       "      <td>2014.000</td>\n",
       "    </tr>\n",
       "  </tbody>\n",
       "</table>\n",
       "</div>"
      ],
      "text/plain": [
       "                 count         mean         std       min      25%      50%  \\\n",
       "quantity       51290.0     3.476545    2.278766     1.000     2.00     3.00   \n",
       "discount       51290.0     0.142908    0.212280     0.000     0.00     0.00   \n",
       "profit         51290.0    28.641740  174.424113 -6599.978     0.00     9.24   \n",
       "shipping_cost  51290.0    26.375915   57.296804     0.000     2.61     7.79   \n",
       "year           51290.0  2012.777208    1.098931  2011.000  2012.00  2013.00   \n",
       "\n",
       "                   75%       max  \n",
       "quantity          5.00    14.000  \n",
       "discount          0.20     0.850  \n",
       "profit           36.81  8399.976  \n",
       "shipping_cost    24.45   933.570  \n",
       "year           2014.00  2014.000  "
      ]
     },
     "execution_count": 5,
     "metadata": {},
     "output_type": "execute_result"
    }
   ],
   "source": [
    "#checking for statistical information\n",
    "sales.describe().T"
   ]
  },
  {
   "cell_type": "code",
   "execution_count": 6,
   "id": "9a37824b",
   "metadata": {},
   "outputs": [
    {
     "data": {
      "text/plain": [
       "order_id           object\n",
       "order_date         object\n",
       "ship_date          object\n",
       "ship_mode          object\n",
       "customer_name      object\n",
       "segment            object\n",
       "state              object\n",
       "country            object\n",
       "market             object\n",
       "region             object\n",
       "product_id         object\n",
       "category           object\n",
       "sub_category       object\n",
       "product_name       object\n",
       "sales              object\n",
       "quantity            int64\n",
       "discount          float64\n",
       "profit            float64\n",
       "shipping_cost     float64\n",
       "order_priority     object\n",
       "year                int64\n",
       "dtype: object"
      ]
     },
     "execution_count": 6,
     "metadata": {},
     "output_type": "execute_result"
    }
   ],
   "source": [
    "#checking the data types\n",
    "sales.dtypes"
   ]
  },
  {
   "cell_type": "code",
   "execution_count": 7,
   "id": "f16a2d54",
   "metadata": {},
   "outputs": [
    {
     "data": {
      "text/plain": [
       "order_id          0\n",
       "order_date        0\n",
       "ship_date         0\n",
       "ship_mode         0\n",
       "customer_name     0\n",
       "segment           0\n",
       "state             0\n",
       "country           0\n",
       "market            0\n",
       "region            0\n",
       "product_id        0\n",
       "category          0\n",
       "sub_category      0\n",
       "product_name      0\n",
       "sales             0\n",
       "quantity          0\n",
       "discount          0\n",
       "profit            0\n",
       "shipping_cost     0\n",
       "order_priority    0\n",
       "year              0\n",
       "dtype: int64"
      ]
     },
     "execution_count": 7,
     "metadata": {},
     "output_type": "execute_result"
    }
   ],
   "source": [
    "#checking for null values\n",
    "sales.isna().sum()"
   ]
  },
  {
   "cell_type": "code",
   "execution_count": 8,
   "id": "7e2367f7",
   "metadata": {},
   "outputs": [
    {
     "name": "stdout",
     "output_type": "stream",
     "text": [
      "<class 'pandas.core.frame.DataFrame'>\n",
      "RangeIndex: 51290 entries, 0 to 51289\n",
      "Data columns (total 21 columns):\n",
      " #   Column          Non-Null Count  Dtype  \n",
      "---  ------          --------------  -----  \n",
      " 0   order_id        51290 non-null  object \n",
      " 1   order_date      51290 non-null  object \n",
      " 2   ship_date       51290 non-null  object \n",
      " 3   ship_mode       51290 non-null  object \n",
      " 4   customer_name   51290 non-null  object \n",
      " 5   segment         51290 non-null  object \n",
      " 6   state           51290 non-null  object \n",
      " 7   country         51290 non-null  object \n",
      " 8   market          51290 non-null  object \n",
      " 9   region          51290 non-null  object \n",
      " 10  product_id      51290 non-null  object \n",
      " 11  category        51290 non-null  object \n",
      " 12  sub_category    51290 non-null  object \n",
      " 13  product_name    51290 non-null  object \n",
      " 14  sales           51290 non-null  object \n",
      " 15  quantity        51290 non-null  int64  \n",
      " 16  discount        51290 non-null  float64\n",
      " 17  profit          51290 non-null  float64\n",
      " 18  shipping_cost   51290 non-null  float64\n",
      " 19  order_priority  51290 non-null  object \n",
      " 20  year            51290 non-null  int64  \n",
      "dtypes: float64(3), int64(2), object(16)\n",
      "memory usage: 8.2+ MB\n"
     ]
    }
   ],
   "source": [
    "#checking for the data information\n",
    "sales.info()"
   ]
  },
  {
   "cell_type": "markdown",
   "id": "8cd7cb5c",
   "metadata": {},
   "source": [
    "<b>Data Cleaning Process</b>"
   ]
  },
  {
   "cell_type": "code",
   "execution_count": 9,
   "id": "85dc3c7c",
   "metadata": {},
   "outputs": [
    {
     "data": {
      "text/plain": [
       "False"
      ]
     },
     "execution_count": 9,
     "metadata": {},
     "output_type": "execute_result"
    }
   ],
   "source": [
    "#checking for duplicates\n",
    "sales.duplicated().any()"
   ]
  },
  {
   "cell_type": "code",
   "execution_count": 10,
   "id": "ff64f027",
   "metadata": {},
   "outputs": [
    {
     "data": {
      "text/plain": [
       "0        408.0\n",
       "1        120.0\n",
       "2         66.0\n",
       "3         45.0\n",
       "4        114.0\n",
       "         ...  \n",
       "51285     14.0\n",
       "51286      4.0\n",
       "51287     26.0\n",
       "51288      7.0\n",
       "51289      3.0\n",
       "Name: sales, Length: 51290, dtype: float64"
      ]
     },
     "execution_count": 10,
     "metadata": {},
     "output_type": "execute_result"
    }
   ],
   "source": [
    "#data type conversion\n",
    "sales['order_date'] = pd.to_datetime(sales['order_date'])\n",
    "\n",
    "sales['ship_date'] = pd.to_datetime(sales['ship_date'])\n",
    "sales['ship_date']\n",
    "\n",
    "sales['sales'] = pd.to_numeric(sales['sales'], errors='coerce')\n",
    "sales['sales']"
   ]
  },
  {
   "cell_type": "code",
   "execution_count": 11,
   "id": "afd71491",
   "metadata": {},
   "outputs": [
    {
     "data": {
      "text/plain": [
       "0             Constantine\n",
       "1         New South Wales\n",
       "2                Budapest\n",
       "3               Stockholm\n",
       "4         New South Wales\n",
       "               ...       \n",
       "51285          California\n",
       "51286    Souss-Massa-Draâ\n",
       "51287             Managua\n",
       "51288           Chihuahua\n",
       "51289            Colorado\n",
       "Name: state, Length: 51290, dtype: object"
      ]
     },
     "execution_count": 11,
     "metadata": {},
     "output_type": "execute_result"
    }
   ],
   "source": [
    "#using the title case\n",
    "sales['region'] = sales['region'].str.title()\n",
    "sales['region']\n",
    "\n",
    "#Removing whitespace\n",
    "sales['state'] = sales['state'].str.strip()\n",
    "sales['state']"
   ]
  },
  {
   "cell_type": "code",
   "execution_count": 12,
   "id": "a6c2c44c",
   "metadata": {},
   "outputs": [
    {
     "data": {
      "text/html": [
       "<div>\n",
       "<style scoped>\n",
       "    .dataframe tbody tr th:only-of-type {\n",
       "        vertical-align: middle;\n",
       "    }\n",
       "\n",
       "    .dataframe tbody tr th {\n",
       "        vertical-align: top;\n",
       "    }\n",
       "\n",
       "    .dataframe thead th {\n",
       "        text-align: right;\n",
       "    }\n",
       "</style>\n",
       "<table border=\"1\" class=\"dataframe\">\n",
       "  <thead>\n",
       "    <tr style=\"text-align: right;\">\n",
       "      <th></th>\n",
       "      <th>order_id</th>\n",
       "      <th>order_date</th>\n",
       "      <th>ship_mode</th>\n",
       "      <th>customer_name</th>\n",
       "      <th>segment</th>\n",
       "      <th>state</th>\n",
       "      <th>country</th>\n",
       "      <th>region</th>\n",
       "      <th>product_id</th>\n",
       "      <th>category</th>\n",
       "      <th>sub_category</th>\n",
       "      <th>product_name</th>\n",
       "      <th>sales</th>\n",
       "      <th>quantity</th>\n",
       "      <th>discount</th>\n",
       "      <th>profit</th>\n",
       "      <th>shipping_cost</th>\n",
       "      <th>order_priority</th>\n",
       "    </tr>\n",
       "  </thead>\n",
       "  <tbody>\n",
       "    <tr>\n",
       "      <th>0</th>\n",
       "      <td>AG-2011-2040</td>\n",
       "      <td>2011-01-01</td>\n",
       "      <td>Standard Class</td>\n",
       "      <td>Toby Braunhardt</td>\n",
       "      <td>Consumer</td>\n",
       "      <td>Constantine</td>\n",
       "      <td>Algeria</td>\n",
       "      <td>Africa</td>\n",
       "      <td>OFF-TEN-10000025</td>\n",
       "      <td>Office Supplies</td>\n",
       "      <td>Storage</td>\n",
       "      <td>Tenex Lockers, Blue</td>\n",
       "      <td>408.0</td>\n",
       "      <td>2</td>\n",
       "      <td>0.0</td>\n",
       "      <td>106.1400</td>\n",
       "      <td>35.46</td>\n",
       "      <td>Medium</td>\n",
       "    </tr>\n",
       "    <tr>\n",
       "      <th>1</th>\n",
       "      <td>IN-2011-47883</td>\n",
       "      <td>2011-01-01</td>\n",
       "      <td>Standard Class</td>\n",
       "      <td>Joseph Holt</td>\n",
       "      <td>Consumer</td>\n",
       "      <td>New South Wales</td>\n",
       "      <td>Australia</td>\n",
       "      <td>Oceania</td>\n",
       "      <td>OFF-SU-10000618</td>\n",
       "      <td>Office Supplies</td>\n",
       "      <td>Supplies</td>\n",
       "      <td>Acme Trimmer, High Speed</td>\n",
       "      <td>120.0</td>\n",
       "      <td>3</td>\n",
       "      <td>0.1</td>\n",
       "      <td>36.0360</td>\n",
       "      <td>9.72</td>\n",
       "      <td>Medium</td>\n",
       "    </tr>\n",
       "    <tr>\n",
       "      <th>2</th>\n",
       "      <td>HU-2011-1220</td>\n",
       "      <td>2011-01-01</td>\n",
       "      <td>Second Class</td>\n",
       "      <td>Annie Thurman</td>\n",
       "      <td>Consumer</td>\n",
       "      <td>Budapest</td>\n",
       "      <td>Hungary</td>\n",
       "      <td>Emea</td>\n",
       "      <td>OFF-TEN-10001585</td>\n",
       "      <td>Office Supplies</td>\n",
       "      <td>Storage</td>\n",
       "      <td>Tenex Box, Single Width</td>\n",
       "      <td>66.0</td>\n",
       "      <td>4</td>\n",
       "      <td>0.0</td>\n",
       "      <td>29.6400</td>\n",
       "      <td>8.17</td>\n",
       "      <td>High</td>\n",
       "    </tr>\n",
       "    <tr>\n",
       "      <th>3</th>\n",
       "      <td>IT-2011-3647632</td>\n",
       "      <td>2011-01-01</td>\n",
       "      <td>Second Class</td>\n",
       "      <td>Eugene Moren</td>\n",
       "      <td>Home Office</td>\n",
       "      <td>Stockholm</td>\n",
       "      <td>Sweden</td>\n",
       "      <td>North</td>\n",
       "      <td>OFF-PA-10001492</td>\n",
       "      <td>Office Supplies</td>\n",
       "      <td>Paper</td>\n",
       "      <td>Enermax Note Cards, Premium</td>\n",
       "      <td>45.0</td>\n",
       "      <td>3</td>\n",
       "      <td>0.5</td>\n",
       "      <td>-26.0550</td>\n",
       "      <td>4.82</td>\n",
       "      <td>High</td>\n",
       "    </tr>\n",
       "    <tr>\n",
       "      <th>4</th>\n",
       "      <td>IN-2011-47883</td>\n",
       "      <td>2011-01-01</td>\n",
       "      <td>Standard Class</td>\n",
       "      <td>Joseph Holt</td>\n",
       "      <td>Consumer</td>\n",
       "      <td>New South Wales</td>\n",
       "      <td>Australia</td>\n",
       "      <td>Oceania</td>\n",
       "      <td>FUR-FU-10003447</td>\n",
       "      <td>Furniture</td>\n",
       "      <td>Furnishings</td>\n",
       "      <td>Eldon Light Bulb, Duo Pack</td>\n",
       "      <td>114.0</td>\n",
       "      <td>5</td>\n",
       "      <td>0.1</td>\n",
       "      <td>37.7700</td>\n",
       "      <td>4.70</td>\n",
       "      <td>Medium</td>\n",
       "    </tr>\n",
       "    <tr>\n",
       "      <th>...</th>\n",
       "      <td>...</td>\n",
       "      <td>...</td>\n",
       "      <td>...</td>\n",
       "      <td>...</td>\n",
       "      <td>...</td>\n",
       "      <td>...</td>\n",
       "      <td>...</td>\n",
       "      <td>...</td>\n",
       "      <td>...</td>\n",
       "      <td>...</td>\n",
       "      <td>...</td>\n",
       "      <td>...</td>\n",
       "      <td>...</td>\n",
       "      <td>...</td>\n",
       "      <td>...</td>\n",
       "      <td>...</td>\n",
       "      <td>...</td>\n",
       "      <td>...</td>\n",
       "    </tr>\n",
       "    <tr>\n",
       "      <th>51285</th>\n",
       "      <td>CA-2014-115427</td>\n",
       "      <td>2014-12-31</td>\n",
       "      <td>Standard Class</td>\n",
       "      <td>Erica Bern</td>\n",
       "      <td>Corporate</td>\n",
       "      <td>California</td>\n",
       "      <td>United States</td>\n",
       "      <td>West</td>\n",
       "      <td>OFF-BI-10002103</td>\n",
       "      <td>Office Supplies</td>\n",
       "      <td>Binders</td>\n",
       "      <td>Cardinal Slant-D Ring Binder, Heavy Gauge Vinyl</td>\n",
       "      <td>14.0</td>\n",
       "      <td>2</td>\n",
       "      <td>0.2</td>\n",
       "      <td>4.5188</td>\n",
       "      <td>0.89</td>\n",
       "      <td>Medium</td>\n",
       "    </tr>\n",
       "    <tr>\n",
       "      <th>51286</th>\n",
       "      <td>MO-2014-2560</td>\n",
       "      <td>2014-12-31</td>\n",
       "      <td>Standard Class</td>\n",
       "      <td>Liz Preis</td>\n",
       "      <td>Consumer</td>\n",
       "      <td>Souss-Massa-Draâ</td>\n",
       "      <td>Morocco</td>\n",
       "      <td>Africa</td>\n",
       "      <td>OFF-WIL-10001069</td>\n",
       "      <td>Office Supplies</td>\n",
       "      <td>Binders</td>\n",
       "      <td>Wilson Jones Hole Reinforcements, Clear</td>\n",
       "      <td>4.0</td>\n",
       "      <td>1</td>\n",
       "      <td>0.0</td>\n",
       "      <td>0.4200</td>\n",
       "      <td>0.49</td>\n",
       "      <td>Medium</td>\n",
       "    </tr>\n",
       "    <tr>\n",
       "      <th>51287</th>\n",
       "      <td>MX-2014-110527</td>\n",
       "      <td>2014-12-31</td>\n",
       "      <td>Second Class</td>\n",
       "      <td>Charlotte Melton</td>\n",
       "      <td>Consumer</td>\n",
       "      <td>Managua</td>\n",
       "      <td>Nicaragua</td>\n",
       "      <td>Central</td>\n",
       "      <td>OFF-LA-10004182</td>\n",
       "      <td>Office Supplies</td>\n",
       "      <td>Labels</td>\n",
       "      <td>Hon Color Coded Labels, 5000 Label Set</td>\n",
       "      <td>26.0</td>\n",
       "      <td>3</td>\n",
       "      <td>0.0</td>\n",
       "      <td>12.3600</td>\n",
       "      <td>0.35</td>\n",
       "      <td>Medium</td>\n",
       "    </tr>\n",
       "    <tr>\n",
       "      <th>51288</th>\n",
       "      <td>MX-2014-114783</td>\n",
       "      <td>2014-12-31</td>\n",
       "      <td>Standard Class</td>\n",
       "      <td>Tamara Dahlen</td>\n",
       "      <td>Consumer</td>\n",
       "      <td>Chihuahua</td>\n",
       "      <td>Mexico</td>\n",
       "      <td>North</td>\n",
       "      <td>OFF-LA-10000413</td>\n",
       "      <td>Office Supplies</td>\n",
       "      <td>Labels</td>\n",
       "      <td>Hon Legal Exhibit Labels, Alphabetical</td>\n",
       "      <td>7.0</td>\n",
       "      <td>1</td>\n",
       "      <td>0.0</td>\n",
       "      <td>0.5600</td>\n",
       "      <td>0.20</td>\n",
       "      <td>Medium</td>\n",
       "    </tr>\n",
       "    <tr>\n",
       "      <th>51289</th>\n",
       "      <td>CA-2014-156720</td>\n",
       "      <td>2014-12-31</td>\n",
       "      <td>Standard Class</td>\n",
       "      <td>Jill Matthias</td>\n",
       "      <td>Consumer</td>\n",
       "      <td>Colorado</td>\n",
       "      <td>United States</td>\n",
       "      <td>West</td>\n",
       "      <td>OFF-FA-10003472</td>\n",
       "      <td>Office Supplies</td>\n",
       "      <td>Fasteners</td>\n",
       "      <td>Bagged Rubber Bands</td>\n",
       "      <td>3.0</td>\n",
       "      <td>3</td>\n",
       "      <td>0.2</td>\n",
       "      <td>-0.6048</td>\n",
       "      <td>0.17</td>\n",
       "      <td>Medium</td>\n",
       "    </tr>\n",
       "  </tbody>\n",
       "</table>\n",
       "<p>51290 rows × 18 columns</p>\n",
       "</div>"
      ],
      "text/plain": [
       "              order_id order_date       ship_mode     customer_name  \\\n",
       "0         AG-2011-2040 2011-01-01  Standard Class   Toby Braunhardt   \n",
       "1        IN-2011-47883 2011-01-01  Standard Class       Joseph Holt   \n",
       "2         HU-2011-1220 2011-01-01    Second Class     Annie Thurman   \n",
       "3      IT-2011-3647632 2011-01-01    Second Class      Eugene Moren   \n",
       "4        IN-2011-47883 2011-01-01  Standard Class       Joseph Holt   \n",
       "...                ...        ...             ...               ...   \n",
       "51285   CA-2014-115427 2014-12-31  Standard Class        Erica Bern   \n",
       "51286     MO-2014-2560 2014-12-31  Standard Class         Liz Preis   \n",
       "51287   MX-2014-110527 2014-12-31    Second Class  Charlotte Melton   \n",
       "51288   MX-2014-114783 2014-12-31  Standard Class     Tamara Dahlen   \n",
       "51289   CA-2014-156720 2014-12-31  Standard Class     Jill Matthias   \n",
       "\n",
       "           segment             state        country   region  \\\n",
       "0         Consumer       Constantine        Algeria   Africa   \n",
       "1         Consumer   New South Wales      Australia  Oceania   \n",
       "2         Consumer          Budapest        Hungary     Emea   \n",
       "3      Home Office         Stockholm         Sweden    North   \n",
       "4         Consumer   New South Wales      Australia  Oceania   \n",
       "...            ...               ...            ...      ...   \n",
       "51285    Corporate        California  United States     West   \n",
       "51286     Consumer  Souss-Massa-Draâ        Morocco   Africa   \n",
       "51287     Consumer           Managua      Nicaragua  Central   \n",
       "51288     Consumer         Chihuahua         Mexico    North   \n",
       "51289     Consumer          Colorado  United States     West   \n",
       "\n",
       "             product_id         category sub_category  \\\n",
       "0      OFF-TEN-10000025  Office Supplies      Storage   \n",
       "1       OFF-SU-10000618  Office Supplies     Supplies   \n",
       "2      OFF-TEN-10001585  Office Supplies      Storage   \n",
       "3       OFF-PA-10001492  Office Supplies        Paper   \n",
       "4       FUR-FU-10003447        Furniture  Furnishings   \n",
       "...                 ...              ...          ...   \n",
       "51285   OFF-BI-10002103  Office Supplies      Binders   \n",
       "51286  OFF-WIL-10001069  Office Supplies      Binders   \n",
       "51287   OFF-LA-10004182  Office Supplies       Labels   \n",
       "51288   OFF-LA-10000413  Office Supplies       Labels   \n",
       "51289   OFF-FA-10003472  Office Supplies    Fasteners   \n",
       "\n",
       "                                          product_name  sales  quantity  \\\n",
       "0                                  Tenex Lockers, Blue  408.0         2   \n",
       "1                             Acme Trimmer, High Speed  120.0         3   \n",
       "2                              Tenex Box, Single Width   66.0         4   \n",
       "3                          Enermax Note Cards, Premium   45.0         3   \n",
       "4                           Eldon Light Bulb, Duo Pack  114.0         5   \n",
       "...                                                ...    ...       ...   \n",
       "51285  Cardinal Slant-D Ring Binder, Heavy Gauge Vinyl   14.0         2   \n",
       "51286          Wilson Jones Hole Reinforcements, Clear    4.0         1   \n",
       "51287           Hon Color Coded Labels, 5000 Label Set   26.0         3   \n",
       "51288           Hon Legal Exhibit Labels, Alphabetical    7.0         1   \n",
       "51289                              Bagged Rubber Bands    3.0         3   \n",
       "\n",
       "       discount    profit  shipping_cost order_priority  \n",
       "0           0.0  106.1400          35.46         Medium  \n",
       "1           0.1   36.0360           9.72         Medium  \n",
       "2           0.0   29.6400           8.17           High  \n",
       "3           0.5  -26.0550           4.82           High  \n",
       "4           0.1   37.7700           4.70         Medium  \n",
       "...         ...       ...            ...            ...  \n",
       "51285       0.2    4.5188           0.89         Medium  \n",
       "51286       0.0    0.4200           0.49         Medium  \n",
       "51287       0.0   12.3600           0.35         Medium  \n",
       "51288       0.0    0.5600           0.20         Medium  \n",
       "51289       0.2   -0.6048           0.17         Medium  \n",
       "\n",
       "[51290 rows x 18 columns]"
      ]
     },
     "execution_count": 12,
     "metadata": {},
     "output_type": "execute_result"
    }
   ],
   "source": [
    "#Removing unwanted columns\n",
    "sales = sales.drop(columns=['ship_date', 'market', 'year'])\n",
    "sales"
   ]
  },
  {
   "cell_type": "markdown",
   "id": "ecfe8100",
   "metadata": {},
   "source": [
    "<b>Carry out Analysis</b>"
   ]
  },
  {
   "cell_type": "code",
   "execution_count": 13,
   "id": "aacb5ab3",
   "metadata": {},
   "outputs": [
    {
     "data": {
      "image/png": "[encoded data removed]",
      "text/plain": [
       "<Figure size 1152x360 with 1 Axes>"
      ]
     },
     "metadata": {
      "needs_background": "light"
     },
     "output_type": "display_data"
    }
   ],
   "source": [
    "#monthly sales made\n",
    "sales['order_month'] = sales['order_date'].dt.month\n",
    "sales['order_month']\n",
    "\n",
    "monthly_sales = sales.groupby('order_month')['sales'].sum().reset_index()\n",
    "monthly_sales\n",
    "\n",
    "#line plot\n",
    "fig, ax=plt.subplots(figsize=(16,5))\n",
    "ax.plot(monthly_sales['order_month'], monthly_sales['sales'], marker='o')\n",
    "ax.set_xlabel(\"Ordered Month\")\n",
    "ax.set_ylabel(\"Sales Obtained\")\n",
    "ax.set_title(\"Monthly Sales Obtained\")\n",
    "plt.grid(True)\n",
    "plt.show()"
   ]
  },
  {
   "cell_type": "code",
   "execution_count": 14,
   "id": "c33f9cdb",
   "metadata": {},
   "outputs": [
    {
     "data": {
      "image/png": "[encoded data removed]",
      "text/plain": [
       "<Figure size 1152x360 with 1 Axes>"
      ]
     },
     "metadata": {},
     "output_type": "display_data"
    }
   ],
   "source": [
    "salesby_category = sales.groupby('category')['sales'].sum().reset_index()\n",
    "salesby_category\n",
    "\n",
    "#pie chart\n",
    "fig, ax = plt.subplots(figsize=(16,5))\n",
    "ax.pie(salesby_category['sales'], labels=salesby_category['category'], autopct='%1.1f%%')\n",
    "plt.title('Sales Analysis by Category')\n",
    "plt.show()"
   ]
  },
  {
   "cell_type": "code",
   "execution_count": 15,
   "id": "f10c2246",
   "metadata": {},
   "outputs": [
    {
     "data": {
      "image/png": "[encoded data removed]",
      "text/plain": [
       "<Figure size 1152x360 with 1 Axes>"
      ]
     },
     "metadata": {
      "needs_background": "light"
     },
     "output_type": "display_data"
    }
   ],
   "source": [
    "salesby_subcategory = sales.groupby('sub_category')['sales'].sum().reset_index()\n",
    "salesby_subcategory\n",
    "\n",
    "#bar graph\n",
    "plt.figure(figsize=(16,5))\n",
    "sns.barplot(data=salesby_subcategory, x='sub_category', y='sales')\n",
    "plt.title(\"Sales Analysis by Subcategory\")\n",
    "plt.xticks(rotation=90)\n",
    "plt.show()"
   ]
  },
  {
   "cell_type": "code",
   "execution_count": 16,
   "id": "eb9ce684",
   "metadata": {},
   "outputs": [
    {
     "data": {
      "image/png": "[encoded data removed]",
      "text/plain": [
       "<Figure size 1152x360 with 1 Axes>"
      ]
     },
     "metadata": {
      "needs_background": "light"
     },
     "output_type": "display_data"
    }
   ],
   "source": [
    "#monthly profit\n",
    "monthly_profit = sales.groupby('order_month')['profit'].sum().reset_index()\n",
    "monthly_profit\n",
    "\n",
    "\n",
    "plt.figure(figsize=(16,5))\n",
    "sns.lineplot(data=monthly_profit, x='order_month', y='profit', marker='o')\n",
    "plt.title(\"Monthly Profit Obtained\")\n",
    "plt.grid(True)\n",
    "plt.show()"
   ]
  },
  {
   "cell_type": "code",
   "execution_count": 17,
   "id": "95d6d7bf",
   "metadata": {},
   "outputs": [
    {
     "data": {
      "image/png": "[encoded data removed]",
      "text/plain": [
       "<Figure size 1152x360 with 1 Axes>"
      ]
     },
     "metadata": {},
     "output_type": "display_data"
    }
   ],
   "source": [
    "#profit obtained per category\n",
    "profitper_category = sales.groupby('category')['profit'].sum().reset_index()\n",
    "profitper_category\n",
    "\n",
    "#donut chart\n",
    "plt.figure(figsize=(16, 5))\n",
    "plt.pie(profitper_category['profit'], labels=profitper_category['category'], autopct='%1.1f%%',wedgeprops={'width': 0.4})\n",
    "circle = plt.Circle((0, 0), 0.6, color='white')\n",
    "plt.gca().add_artist(circle)\n",
    "plt.title('Profit Obtained By Category')\n",
    "plt.axis('equal')\n",
    "plt.legend(loc='upper right')\n",
    "plt.show()"
   ]
  },
  {
   "cell_type": "code",
   "execution_count": 18,
   "id": "ba79dff8",
   "metadata": {},
   "outputs": [
    {
     "data": {
      "image/png": "[encoded data removed]",
      "text/plain": [
       "<Figure size 1152x360 with 1 Axes>"
      ]
     },
     "metadata": {
      "needs_background": "light"
     },
     "output_type": "display_data"
    }
   ],
   "source": [
    "#profit by subcategory\n",
    "profitby_subcategory = sales.groupby('sub_category')['profit'].sum().reset_index()\n",
    "profitby_subcategory\n",
    "\n",
    "#bar graph\n",
    "plt.figure(figsize=(16, 5))\n",
    "plt.bar(profitby_subcategory['sub_category'], profitby_subcategory['profit'])\n",
    "plt.xlabel('Sub_category')\n",
    "plt.ylabel('Profit')\n",
    "plt.title('Profit Obtained by Sub-category')\n",
    "plt.xticks(rotation=90)\n",
    "plt.show()"
   ]
  },
  {
   "cell_type": "code",
   "execution_count": 19,
   "id": "93ed5a89",
   "metadata": {},
   "outputs": [
    {
     "data": {
      "image/png": "[encoded data removed]",
      "text/plain": [
       "<Figure size 1080x432 with 1 Axes>"
      ]
     },
     "metadata": {
      "needs_background": "light"
     },
     "output_type": "display_data"
    }
   ],
   "source": [
    "segment_salesprofit = sales.groupby('segment').agg({\"sales\":\"sum\", \"profit\":\"sum\"}).reset_index()\n",
    "segment_salesprofit\n",
    "\n",
    "#grouped bar graph\n",
    "plt.figure(figsize=(15, 6))\n",
    "sales = segment_salesprofit.melt(id_vars='segment', var_name='measure', value_name='amount')\n",
    "sns.barplot(x='segment', y='amount', hue='measure', data=sales)\n",
    "plt.xlabel('Segment')\n",
    "plt.ylabel('Amount')\n",
    "plt.title(\"Sales and Profit Obtained by Customer Segment\")\n",
    "plt.show()"
   ]
  },
  {
   "cell_type": "code",
   "execution_count": null,
   "id": "b633529f",
   "metadata": {},
   "outputs": [],
   "source": []
  }
 ],
 "metadata": {
  "kernelspec": {
   "display_name": "Python 3 (ipykernel)",
   "language": "python",
   "name": "python3"
  },
  "language_info": {
   "codemirror_mode": {
    "name": "ipython",
    "version": 3
   },
   "file_extension": ".py",
   "mimetype": "text/x-python",
   "name": "python",
   "nbconvert_exporter": "python",
   "pygments_lexer": "ipython3",
   "version": "3.9.7"
  }
 },
 "nbformat": 4,
 "nbformat_minor": 5
}
